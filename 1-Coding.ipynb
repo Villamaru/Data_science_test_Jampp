{
 "cells": [
  {
   "cell_type": "markdown",
   "metadata": {},
   "source": [
    "## 1- Coding\n",
    "Seems like the following function has an error. The function returns random values from a list, given the weights. For example: weighted_random([1, 2, 3], [0.5, 0.3, 0.2]), should return  1 with 50% of probabilities, 2 with 30% and 3 with 20%. \n",
    "\n",
    "### Objective: \n",
    "Evaluate if there’s any error. If it has it, fix it with the proper explanation. "
   ]
  },
  {
   "cell_type": "code",
   "execution_count": 1,
   "metadata": {},
   "outputs": [],
   "source": [
    "import random \n",
    "def weighted_random(values, weights):\n",
    "    total_weight = sum(weights)\n",
    "    acum_weights = [w / total_weight for w in weights[:]]\n",
    "    for i in range(len(weights)):\n",
    "        acum_weights[i] += acum_weights[i]\n",
    "    rand = random.random()     \n",
    "    for value, weight in zip(values, acum_weights):\n",
    "        if weight > rand:\n",
    "            return value\n"
   ]
  },
  {
   "cell_type": "markdown",
   "metadata": {},
   "source": [
    "Let's try first by analyzing the function results:"
   ]
  },
  {
   "cell_type": "code",
   "execution_count": 2,
   "metadata": {},
   "outputs": [
    {
     "name": "stdout",
     "output_type": "stream",
     "text": [
      "1:  100000 \n",
      "2:  0 \n",
      "3:  0\n"
     ]
    }
   ],
   "source": [
    "l = list()\n",
    "for i in range(100000):\n",
    "    l.append(weighted_random([1, 2, 3], [0.5, 0.3, 0.2]))\n",
    "print(\"1: \",l.count(1),\"\\n2: \",l.count(2),\"\\n3: \",l.count(3))"
   ]
  },
  {
   "cell_type": "markdown",
   "metadata": {},
   "source": [
    "The function seems to only give 1 as an answer.\n",
    "\n",
    "First we try by changing the way the variable is handled,  let's try again using an auxiliary variable, since we only have to return the value one time at the end of the iteration:"
   ]
  },
  {
   "cell_type": "code",
   "execution_count": 3,
   "metadata": {},
   "outputs": [],
   "source": [
    "def weighted_random(values, weights):\n",
    "    total_weight = sum(weights)\n",
    "    acum_weights = [w / total_weight for w in weights[:]]\n",
    "    for i in range(len(weights)):\n",
    "        acum_weights[i] += acum_weights[i]\n",
    "    rand = random.random()     \n",
    "    for value, weight in zip(values, acum_weights):\n",
    "        if weight > rand:\n",
    "            result = value #Here\n",
    "    return result\n"
   ]
  },
  {
   "cell_type": "code",
   "execution_count": 4,
   "metadata": {},
   "outputs": [
    {
     "name": "stdout",
     "output_type": "stream",
     "text": [
      "1:  40121 \n",
      "2:  19915 \n",
      "3:  39964\n"
     ]
    }
   ],
   "source": [
    "l = list()\n",
    "for i in range(100000):\n",
    "    l.append(weighted_random([1, 2, 3], [0.5, 0.3, 0.2]))\n",
    "print(\"1: \",l.count(1),\"\\n2: \",l.count(2),\"\\n3: \",l.count(3))"
   ]
  },
  {
   "cell_type": "markdown",
   "metadata": {},
   "source": [
    "We see different results, around:\n",
    "\n",
    "    1 - 40%\n",
    "    2 - 20%\n",
    "    3 - 40%\n",
    "    \n",
    "    \n",
    "Let's try by analyzing the way the weights are changed"
   ]
  },
  {
   "cell_type": "code",
   "execution_count": 5,
   "metadata": {},
   "outputs": [
    {
     "name": "stdout",
     "output_type": "stream",
     "text": [
      "[0.5, 0.3, 0.2]\n",
      "[1.0, 0.6, 0.4]\n"
     ]
    },
    {
     "data": {
      "text/plain": [
       "2"
      ]
     },
     "execution_count": 5,
     "metadata": {},
     "output_type": "execute_result"
    }
   ],
   "source": [
    "def weighted_random(values, weights):\n",
    "    total_weight = sum(weights)\n",
    "    acum_weights = [w / total_weight for w in weights[:]]\n",
    "    print(acum_weights)\n",
    "    for i in range(len(weights)):\n",
    "        acum_weights[i] += acum_weights[i]\n",
    "    print(acum_weights)\n",
    "    rand = random.random()     \n",
    "    for value, weight in zip(values, acum_weights):\n",
    "        if weight > rand:\n",
    "            aux = value\n",
    "    return aux\n",
    "weighted_random([1, 2, 3], [0.5, 0.3, 0.2])"
   ]
  },
  {
   "cell_type": "markdown",
   "metadata": {},
   "source": [
    "It's easy to see that acum_weights is normalizing the weights between 0-1.\n",
    "\n",
    "But the way they are changed so they fit inside the random.random() 0-1 is just by doubling them.\n",
    "\n",
    "Let's try this:\n",
    "\n",
    "Since we know that weight > rand will be checked for all the numbers, the last one that passes it's the one that will be assignated.\n",
    "\n",
    "By summing backwards towards the first element, we can be sure that they are in descending order.\n",
    "\n",
    "Thus, the smallest weight that is greater to the random number generated will be the one selected."
   ]
  },
  {
   "cell_type": "code",
   "execution_count": 8,
   "metadata": {},
   "outputs": [
    {
     "name": "stdout",
     "output_type": "stream",
     "text": [
      "[0.5, 0.2, 0.3]\n",
      "[1.0, 0.5, 0.3]\n",
      "1\n"
     ]
    }
   ],
   "source": [
    "def weighted_random(values, weights):\n",
    "    total_weight = sum(weights)\n",
    "    acum_weights = [w / total_weight for w in weights[:]]\n",
    "    print(acum_weights)\n",
    "    for i in range(len(weights)-2,-1,-1): #We change here, and go backwards towards the first element skipping the last one\n",
    "        acum_weights[i] += acum_weights[i+1] #And change here, suming the previous element\n",
    "    print(acum_weights)                 #Note that the first element will be the sum of all the previous numbers (1)\n",
    "    rand = random.random()\n",
    "    for value, weight in zip(values, acum_weights):\n",
    "        if weight > rand:\n",
    "            result = value\n",
    "    return result\n",
    "print(weighted_random([1, 2, 3], [0.5, 0.2, 0.3]))"
   ]
  },
  {
   "cell_type": "markdown",
   "metadata": {},
   "source": [
    "Seems like it works, let's try by checking the results again"
   ]
  },
  {
   "cell_type": "code",
   "execution_count": 10,
   "metadata": {},
   "outputs": [],
   "source": [
    "def weighted_random(values, weights):\n",
    "    total_weight = sum(weights)\n",
    "    acum_weights = [w / total_weight for w in weights[:]]\n",
    "    for i in range(len(weights)-2,-1,-1):\n",
    "        acum_weights[i] += acum_weights[i+1]\n",
    "    rand = random.random()\n",
    "    for value, weight in zip(values, acum_weights):\n",
    "        if weight > rand:\n",
    "            result = value\n",
    "    return result"
   ]
  },
  {
   "cell_type": "code",
   "execution_count": 11,
   "metadata": {},
   "outputs": [
    {
     "name": "stdout",
     "output_type": "stream",
     "text": [
      "1:  49785 \n",
      "2:  30300 \n",
      "3:  19915\n"
     ]
    }
   ],
   "source": [
    "l = list()\n",
    "for i in range(100000):\n",
    "    l.append(weighted_random([1, 2, 3], [0.5, 0.3, 0.2]))\n",
    "print(\"1: \",l.count(1),\"\\n2: \",l.count(2),\"\\n3: \",l.count(3))"
   ]
  },
  {
   "cell_type": "markdown",
   "metadata": {},
   "source": [
    "We can check this result even more by changing the weights, since all weights are normalized, they can be any real number.\n",
    "In this case, the relationship between the numbers it's more important than the numbers themselves."
   ]
  },
  {
   "cell_type": "code",
   "execution_count": 13,
   "metadata": {},
   "outputs": [
    {
     "name": "stdout",
     "output_type": "stream",
     "text": [
      "8 :  0\n",
      "4 :  61228\n",
      "5 :  38772\n"
     ]
    }
   ],
   "source": [
    "numbers = [8,4,5]\n",
    "weights = [0.0, 0.3, 0.19]\n",
    "l = list()\n",
    "for i in range(100000):\n",
    "    l.append(weighted_random(numbers, weights))\n",
    "for i in numbers:\n",
    "    print(i,\": \",l.count(i))\n"
   ]
  }
 ],
 "metadata": {
  "kernelspec": {
   "display_name": "Python 3",
   "language": "python",
   "name": "python3"
  },
  "language_info": {
   "codemirror_mode": {
    "name": "ipython",
    "version": 3
   },
   "file_extension": ".py",
   "mimetype": "text/x-python",
   "name": "python",
   "nbconvert_exporter": "python",
   "pygments_lexer": "ipython3",
   "version": "3.7.4"
  }
 },
 "nbformat": 4,
 "nbformat_minor": 2
}
